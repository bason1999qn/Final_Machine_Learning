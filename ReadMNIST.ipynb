{
 "cells": [
  {
   "cell_type": "code",
   "execution_count": 6,
   "metadata": {},
   "outputs": [],
   "source": [
    "from sklearn.svm import SVC\n",
    "import numpy as np\n",
    "import pickle\n",
    "import gzip\n",
    "import pandas as pd\n",
    "import time\n",
    "from sklearn.metrics import accuracy_score\n",
    "import matplotlib.pyplot as plt\n",
    "import seaborn as sns; sns.set(font_scale=1.2)\n",
    "from datetime import datetime\n",
    "# Allows charts to appear in the notebook\n",
    "%matplotlib inline"
   ]
  },
  {
   "cell_type": "code",
   "execution_count": 7,
   "metadata": {},
   "outputs": [],
   "source": [
    "def read_mnist(mnist_file):\n",
    "    \"\"\"\n",
    "    Reads MNIST data.\n",
    "    \n",
    "    Parameters\n",
    "    ----------\n",
    "    mnist_file : string\n",
    "        The name of the MNIST file (e.g., 'mnist.pkl.gz').\n",
    "    \n",
    "    Returns\n",
    "    -------\n",
    "    (train_X, train_Y, val_X, val_Y, test_X, test_Y) : tuple\n",
    "        train_X : numpy array, shape (N=50000, d=784)\n",
    "            Input vectors of the training set.\n",
    "        train_Y: numpy array, shape (N=50000)\n",
    "            Outputs of the training set.\n",
    "        val_X : numpy array, shape (N=10000, d=784)\n",
    "            Input vectors of the validation set.\n",
    "        val_Y: numpy array, shape (N=10000)\n",
    "            Outputs of the validation set.\n",
    "        test_X : numpy array, shape (N=10000, d=784)\n",
    "            Input vectors of the test set.\n",
    "        test_Y: numpy array, shape (N=10000)\n",
    "            Outputs of the test set.\n",
    "    \"\"\"\n",
    "    f = gzip.open(mnist_file, 'rb')\n",
    "    train_data, val_data, test_data = pickle.load(f, encoding='latin1')\n",
    "    f.close()\n",
    "    \n",
    "    train_X, train_Y = train_data\n",
    "    val_X, val_Y = val_data\n",
    "    test_X, test_Y = test_data    \n",
    "    \n",
    "    return train_X, train_Y, val_X, val_Y, test_X, test_Y"
   ]
  },
  {
   "cell_type": "code",
   "execution_count": 8,
   "metadata": {},
   "outputs": [
    {
     "name": "stdout",
     "output_type": "stream",
     "text": [
      "train_X.shape = (50000, 784)\n",
      "train_Y.shape = (50000,)\n",
      "val_X.shape   = (10000, 784)\n",
      "val_Y.shape   = (10000,)\n",
      "test_X.shape  = (10000, 784)\n",
      "test_Y.shape  = (10000,)\n",
      "\n",
      "train_X: min = 0.000, max = 0.996\n",
      "train_Y: min = 0, max = 9\n"
     ]
    }
   ],
   "source": [
    "# Test\n",
    "train_X, train_Y, val_X, val_Y, test_X, test_Y = read_mnist('mnist.pkl.gz')\n",
    "\n",
    "print('train_X.shape =', train_X.shape)\n",
    "print('train_Y.shape =', train_Y.shape)\n",
    "print('val_X.shape   =', val_X.shape)\n",
    "print('val_Y.shape   =', val_Y.shape)\n",
    "print('test_X.shape  =', test_X.shape)\n",
    "print('test_Y.shape  =', test_Y.shape)\n",
    "\n",
    "print('\\ntrain_X: min = %.3f, max = %.3f' %(train_X.min(), train_X.max()))\n",
    "print('train_Y: min = %d, max = %d' %(train_Y.min(), train_Y.max()))"
   ]
  },
  {
   "cell_type": "code",
   "execution_count": 9,
   "metadata": {},
   "outputs": [],
   "source": [
    "# save the model to disk\n",
    "def save_model(model, mode,  C_k, gamma_k = 1):\n",
    "    if mode == 'linear':\n",
    "        file_name = mode + '_C' + str(C_k) + '.sav'\n",
    "        pickle.dump(model, open(file_name, 'wb'))\n",
    "    else:\n",
    "        file_name = mode + '_C' + str(C_k) + '_gamma' + str(gamma_k) + '.sav'\n",
    "        pickle.dump(model, open(file_name, 'wb'))\n",
    "        \n",
    "# load the model from disk\n",
    "def load_model(file_name):\n",
    "    loaded_model = pickle.load(open(file_name, 'rb'))\n",
    "    return loaded_model"
   ]
  },
  {
   "cell_type": "code",
   "execution_count": 10,
   "metadata": {},
   "outputs": [
    {
     "name": "stdout",
     "output_type": "stream",
     "text": [
      "C: 0.001  |  gamma: 1000  |  train error: 0.88644  |  validation error: 0.8936  |  time: 1:09:56.847450\n",
      "C: 0.01  |  gamma: 100  |  train error: 0.88644  |  validation error: 0.8936  |  time: 1:32:50.463953\n",
      "C: 0.1  |  gamma: 10  |  train error: 0.88644  |  validation error: 0.8936  |  time: 1:53:25.034372\n",
      "C: 1  |  gamma: 1  |  train error: 0.0  |  validation error: 0.8176  |  time: 2:41:24.677824\n",
      "C: 10  |  gamma: 0.1  |  train error: 0.0  |  validation error: 0.043399999999999994  |  time: 1:33:14.174163\n",
      "C: 100  |  gamma: 0.01  |  train error: 0.0  |  validation error: 0.016800000000000037  |  time: 0:03:43.154318\n",
      "C: 1000  |  gamma: 0.001  |  train error: 7.999999999996898e-05  |  validation error: 0.02849999999999997  |  time: 0:03:07.043143\n"
     ]
    }
   ],
   "source": [
    "for k in range(-3,4):\n",
    "    t = 10**k\n",
    "    s = 10**(-k)\n",
    "    #Training:\n",
    "    start_time = datetime.now()\n",
    "    svclassifier = SVC(C = t,gamma = s,kernel='rbf')\n",
    "    svclassifier.fit(train_X, train_Y)\n",
    "    train_time = datetime.now() - start_time\n",
    "    \n",
    "    #Save model:\n",
    "    save_model(svclassifier, 'Gaussian', k)\n",
    "    \n",
    "    #Get Y predict from input X\n",
    "    y_train_pred = svclassifier.predict(train_X)  \n",
    "    y_val_pred = svclassifier.predict(val_X)\n",
    "    \n",
    "    #Get error:\n",
    "    train_error = 1 -  (accuracy_score(train_Y, y_train_pred, normalize=False) / float(train_Y.size))\n",
    "    val_error = 1 -  (accuracy_score(val_Y, y_val_pred, normalize=False) / float(val_Y.size))\n",
    "    \n",
    "    #Print results:\n",
    "    print(\"C: {}  |  gamma: {}  |  train error: {}  |  validation error: {}  |  time: {}\".format(t, s, train_error, val_error, train_time))"
   ]
  },
  {
   "cell_type": "code",
   "execution_count": null,
   "metadata": {},
   "outputs": [
    {
     "name": "stdout",
     "output_type": "stream",
     "text": [
      "C: 0.01, gamma: 0.1, error: 0.7861, time: 3626.6978505\n"
     ]
    }
   ],
   "source": [
    "list_error = []\n",
    "C_2d_range = [1e-2, 1, 1e2]\n",
    "gamma_2d_range = [1e-1, 1, 1e1]\n",
    "for C in C_2d_range:\n",
    "    for gamma in gamma_2d_range:\n",
    "        start_time = time.perf_counter()\n",
    "        svclassifier = SVC(C=C, gamma=gamma,kernel='rbf')\n",
    "        svclassifier.fit(train_X, train_Y)\n",
    "        train_time = time.perf_counter() - start_time\n",
    "        y_pred = svclassifier.predict(test_X)\n",
    "        my_accuracy = accuracy_score(test_Y, y_pred, normalize=False) / float(test_Y.size)\n",
    "        error = 1 - my_accuracy\n",
    "        print(\"C: {}, gamma: {}, error: {}, time: {}\".format(C, gamma, error, train_time))\n",
    "        list_error.append((error, C, gamma, svclassifier))"
   ]
  },
  {
   "cell_type": "code",
   "execution_count": 8,
   "metadata": {},
   "outputs": [
    {
     "name": "stdout",
     "output_type": "stream",
     "text": [
      "[[ 974    0    1    0    0    1    1    1    2    0]\n",
      " [   0 1130    2    0    0    1    0    1    1    0]\n",
      " [   4    1 1015    0    1    0    1    7    3    0]\n",
      " [   0    0    1  995    0    3    0    3    5    3]\n",
      " [   0    0    3    0  968    0    2    0    0    9]\n",
      " [   2    0    0    9    1  871    4    0    3    2]\n",
      " [   4    2    1    0    2    4  944    0    1    0]\n",
      " [   0    6    9    2    0    0    0 1004    0    7]\n",
      " [   3    0    2    4    4    2    1    2  953    3]\n",
      " [   3    4    0    6    7    2    0    4    1  982]]\n",
      "              precision    recall  f1-score   support\n",
      "\n",
      "           0       0.98      0.99      0.99       980\n",
      "           1       0.99      1.00      0.99      1135\n",
      "           2       0.98      0.98      0.98      1032\n",
      "           3       0.98      0.99      0.98      1010\n",
      "           4       0.98      0.99      0.99       982\n",
      "           5       0.99      0.98      0.98       892\n",
      "           6       0.99      0.99      0.99       958\n",
      "           7       0.98      0.98      0.98      1028\n",
      "           8       0.98      0.98      0.98       974\n",
      "           9       0.98      0.97      0.97      1009\n",
      "\n",
      "    accuracy                           0.98     10000\n",
      "   macro avg       0.98      0.98      0.98     10000\n",
      "weighted avg       0.98      0.98      0.98     10000\n",
      "\n"
     ]
    }
   ],
   "source": [
    "y_pred = svclassifier.predict(test_X)\n",
    "print(confusion_matrix(test_Y, y_pred))\n",
    "print(classification_report(test_Y, y_pred))"
   ]
  }
 ],
 "metadata": {
  "anaconda-cloud": {},
  "kernelspec": {
   "display_name": "Python 3",
   "language": "python",
   "name": "python3"
  },
  "language_info": {
   "codemirror_mode": {
    "name": "ipython",
    "version": 3
   },
   "file_extension": ".py",
   "mimetype": "text/x-python",
   "name": "python",
   "nbconvert_exporter": "python",
   "pygments_lexer": "ipython3",
   "version": "3.7.6"
  },
  "toc": {
   "nav_menu": {},
   "number_sections": false,
   "sideBar": true,
   "skip_h1_title": false,
   "title_cell": "Table of Contents",
   "title_sidebar": "Contents",
   "toc_cell": false,
   "toc_position": {},
   "toc_section_display": true,
   "toc_window_display": true
  }
 },
 "nbformat": 4,
 "nbformat_minor": 1
}
