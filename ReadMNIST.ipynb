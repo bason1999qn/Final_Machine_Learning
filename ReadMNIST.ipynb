{
 "cells": [
  {
   "cell_type": "code",
   "execution_count": 10,
   "metadata": {},
   "outputs": [],
   "source": [
    "from sklearn.svm import SVC\n",
    "import numpy as np\n",
    "import pickle\n",
    "import gzip\n",
    "import pandas as pd\n",
    "import time\n",
    "from sklearn.metrics import accuracy_score\n",
    "import matplotlib.pyplot as plt\n",
    "import seaborn as sns; sns.set(font_scale=1.2)\n",
    "from datetime import datetime\n",
    "# Allows charts to appear in the notebook\n",
    "%matplotlib inline"
   ]
  },
  {
   "cell_type": "code",
   "execution_count": 11,
   "metadata": {},
   "outputs": [],
   "source": [
    "def read_mnist(mnist_file):\n",
    "    \"\"\"\n",
    "    Reads MNIST data.\n",
    "    \n",
    "    Parameters\n",
    "    ----------\n",
    "    mnist_file : string\n",
    "        The name of the MNIST file (e.g., 'mnist.pkl.gz').\n",
    "    \n",
    "    Returns\n",
    "    -------\n",
    "    (train_X, train_Y, val_X, val_Y, test_X, test_Y) : tuple\n",
    "        train_X : numpy array, shape (N=50000, d=784)\n",
    "            Input vectors of the training set.\n",
    "        train_Y: numpy array, shape (N=50000)\n",
    "            Outputs of the training set.\n",
    "        val_X : numpy array, shape (N=10000, d=784)\n",
    "            Input vectors of the validation set.\n",
    "        val_Y: numpy array, shape (N=10000)\n",
    "            Outputs of the validation set.\n",
    "        test_X : numpy array, shape (N=10000, d=784)\n",
    "            Input vectors of the test set.\n",
    "        test_Y: numpy array, shape (N=10000)\n",
    "            Outputs of the test set.\n",
    "    \"\"\"\n",
    "    f = gzip.open(mnist_file, 'rb')\n",
    "    train_data, val_data, test_data = pickle.load(f, encoding='latin1')\n",
    "    f.close()\n",
    "    \n",
    "    train_X, train_Y = train_data\n",
    "    val_X, val_Y = val_data\n",
    "    test_X, test_Y = test_data    \n",
    "    \n",
    "    return train_X, train_Y, val_X, val_Y, test_X, test_Y"
   ]
  },
  {
   "cell_type": "code",
   "execution_count": 12,
   "metadata": {},
   "outputs": [
    {
     "name": "stdout",
     "output_type": "stream",
     "text": [
      "train_X.shape = (50000, 784)\n",
      "train_Y.shape = (50000,)\n",
      "val_X.shape   = (10000, 784)\n",
      "val_Y.shape   = (10000,)\n",
      "test_X.shape  = (10000, 784)\n",
      "test_Y.shape  = (10000,)\n",
      "\n",
      "train_X: min = 0.000, max = 0.996\n",
      "train_Y: min = 0, max = 9\n"
     ]
    }
   ],
   "source": [
    "# Test\n",
    "train_X, train_Y, val_X, val_Y, test_X, test_Y = read_mnist('mnist.pkl.gz')\n",
    "\n",
    "print('train_X.shape =', train_X.shape)\n",
    "print('train_Y.shape =', train_Y.shape)\n",
    "print('val_X.shape   =', val_X.shape)\n",
    "print('val_Y.shape   =', val_Y.shape)\n",
    "print('test_X.shape  =', test_X.shape)\n",
    "print('test_Y.shape  =', test_Y.shape)\n",
    "\n",
    "print('\\ntrain_X: min = %.3f, max = %.3f' %(train_X.min(), train_X.max()))\n",
    "print('train_Y: min = %d, max = %d' %(train_Y.min(), train_Y.max()))"
   ]
  },
  {
   "cell_type": "code",
   "execution_count": 13,
   "metadata": {},
   "outputs": [],
   "source": [
    "# save the model to disk\n",
    "def save_model(model, mode,  C_k, gamma_k):\n",
    "    if mode == 'linear':\n",
    "        file_name = mode + '_C' + str(C_k) + '.sav'\n",
    "        pickle.dump(model, open(file_name, 'wb'))\n",
    "    else:\n",
    "        file_name = mode + '_C' + str(C_k) + '_gamma' + str(gamma_k) + '.sav'\n",
    "        pickle.dump(model, open(file_name, 'wb'))\n",
    "        \n",
    "# load the model from disk\n",
    "def load_model(file_name):\n",
    "    loaded_model = pickle.load(open(file_name, 'rb'))\n",
    "    return loaded_model"
   ]
  },
  {
   "cell_type": "code",
   "execution_count": 14,
   "metadata": {},
   "outputs": [
    {
     "name": "stdout",
     "output_type": "stream",
     "text": [
      "C: 0.1  |  gamma: 0.1  |  train error: 0.28952  |  validation error: 0.3125  |  time: 0:50:24.369580\n",
      "C: 0.1  |  gamma: 1  |  train error: 0.88644  |  validation error: 0.8936  |  time: 1:30:14.722008\n",
      "C: 1  |  gamma: 0.0001  |  train error: 0.09970000000000001  |  validation error: 0.08789999999999998  |  time: 0:19:19.807349\n",
      "C: 1  |  gamma: 0.001  |  train error: 0.06422000000000005  |  validation error: 0.05889999999999995  |  time: 0:07:41.350515\n",
      "C: 1  |  gamma: 0.01  |  train error: 0.015260000000000051  |  validation error: 0.022299999999999986  |  time: 0:04:10.119237\n",
      "C: 1  |  gamma: 0.1  |  train error: 4.0000000000040004e-05  |  validation error: 0.04479999999999995  |  time: 1:16:10.113186\n",
      "C: 1  |  gamma: 1  |  train error: 0.0  |  validation error: 0.8176  |  time: 2:39:45.561629\n",
      "C: 10  |  gamma: 0.0001  |  train error: 0.06864000000000003  |  validation error: 0.06310000000000004  |  time: 0:09:08.717316\n",
      "C: 10  |  gamma: 0.001  |  train error: 0.037939999999999974  |  validation error: 0.04079999999999995  |  time: 0:04:48.727008\n",
      "C: 10  |  gamma: 0.01  |  train error: 0.0005800000000000249  |  validation error: 0.01649999999999996  |  time: 0:04:11.820380\n",
      "C: 10  |  gamma: 0.1  |  train error: 0.0  |  validation error: 0.043399999999999994  |  time: 1:31:53.479140\n",
      "C: 10  |  gamma: 1  |  train error: 0.0  |  validation error: 0.8138  |  time: 4:13:25.293494\n",
      "C: 100  |  gamma: 0.0001  |  train error: 0.049839999999999995  |  validation error: 0.0524  |  time: 0:04:55.715489\n",
      "C: 100  |  gamma: 0.001  |  train error: 0.009419999999999984  |  validation error: 0.028200000000000003  |  time: 0:03:51.994999\n",
      "C: 100  |  gamma: 0.01  |  train error: 0.0  |  validation error: 0.016800000000000037  |  time: 0:04:13.390057\n",
      "C: 100  |  gamma: 0.1  |  train error: 0.0  |  validation error: 0.043399999999999994  |  time: 1:32:34.753810\n",
      "C: 100  |  gamma: 1  |  train error: 0.0  |  validation error: 0.8138  |  time: 3:36:59.474773\n"
     ]
    }
   ],
   "source": [
    "list_error = []\n",
    "C_range = [0.01, 0.1, 1, 10, 100]\n",
    "gamma_range = [0.0001, 0.001, 0.01, 0.1, 1]\n",
    "for C in C_range:\n",
    "    for gamma in gamma_range:\n",
    "        if (C != 0.01):\n",
    "            if C == 0.1 and (gamma != 0.0001 and gamma != 0.001 and gamma != 0.01):\n",
    "                #Training:\n",
    "                start_time = datetime.now()\n",
    "                svclassifier = SVC(C = C,gamma = gamma,kernel='rbf')\n",
    "                svclassifier.fit(train_X, train_Y)\n",
    "                train_time = datetime.now() - start_time\n",
    "\n",
    "                #Save model:\n",
    "                save_model(svclassifier, 'Gaussian', C, gamma)\n",
    "\n",
    "                #Get Y predict from input X\n",
    "                y_train_pred = svclassifier.predict(train_X)  \n",
    "                y_val_pred = svclassifier.predict(val_X)\n",
    "\n",
    "                #Get error:\n",
    "                train_error = 1 -  (accuracy_score(train_Y, y_train_pred, normalize=False) / float(train_Y.size))\n",
    "                val_error = 1 -  (accuracy_score(val_Y, y_val_pred, normalize=False) / float(val_Y.size))\n",
    "\n",
    "                #Print results:\n",
    "                print(\"C: {}  |  gamma: {}  |  train error: {}  |  validation error: {}  |  time: {}\".format(C, gamma, train_error, val_error, train_time))\n",
    "            if (C == 1) or (C == 10) or (C == 100):\n",
    "                 #Training:\n",
    "                start_time = datetime.now()\n",
    "                svclassifier = SVC(C = C,gamma = gamma,kernel='rbf')\n",
    "                svclassifier.fit(train_X, train_Y)\n",
    "                train_time = datetime.now() - start_time\n",
    "\n",
    "                #Save model:\n",
    "                save_model(svclassifier, 'Gaussian', C, gamma)\n",
    "\n",
    "                #Get Y predict from input X\n",
    "                y_train_pred = svclassifier.predict(train_X)  \n",
    "                y_val_pred = svclassifier.predict(val_X)\n",
    "\n",
    "                #Get error:\n",
    "                train_error = 1 -  (accuracy_score(train_Y, y_train_pred, normalize=False) / float(train_Y.size))\n",
    "                val_error = 1 -  (accuracy_score(val_Y, y_val_pred, normalize=False) / float(val_Y.size))\n",
    "\n",
    "                #Print results:\n",
    "                print(\"C: {}  |  gamma: {}  |  train error: {}  |  validation error: {}  |  time: {}\".format(C, gamma, train_error, val_error, train_time))\n",
    "                \n"
   ]
  }
 ],
 "metadata": {
  "anaconda-cloud": {},
  "kernelspec": {
   "display_name": "Python 3",
   "language": "python",
   "name": "python3"
  },
  "language_info": {
   "codemirror_mode": {
    "name": "ipython",
    "version": 3
   },
   "file_extension": ".py",
   "mimetype": "text/x-python",
   "name": "python",
   "nbconvert_exporter": "python",
   "pygments_lexer": "ipython3",
   "version": "3.7.6"
  },
  "toc": {
   "nav_menu": {},
   "number_sections": false,
   "sideBar": true,
   "skip_h1_title": false,
   "title_cell": "Table of Contents",
   "title_sidebar": "Contents",
   "toc_cell": false,
   "toc_position": {},
   "toc_section_display": true,
   "toc_window_display": true
  }
 },
 "nbformat": 4,
 "nbformat_minor": 1
}
